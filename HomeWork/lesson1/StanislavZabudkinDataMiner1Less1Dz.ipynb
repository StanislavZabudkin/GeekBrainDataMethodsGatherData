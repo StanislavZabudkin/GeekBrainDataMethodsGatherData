{
 "cells": [
  {
   "cell_type": "code",
   "execution_count": 28,
   "metadata": {},
   "outputs": [],
   "source": [
    "import requests\n",
    "import pprint\n",
    "import json\n",
    "\n"
   ]
  },
  {
   "cell_type": "code",
   "execution_count": 31,
   "metadata": {},
   "outputs": [
    {
     "name": "stdout",
     "output_type": "stream",
     "text": [
      "{  'base': 'stations',\n",
      "   'clouds': {'all': 100},\n",
      "   'cod': 200,\n",
      "   'coord': {'lat': 56.87, 'lon': 53.21},\n",
      "   'dt': 1571650783,\n",
      "   'id': 554840,\n",
      "   'main': {  'humidity': 97,\n",
      "              'pressure': 1020,\n",
      "              'temp': 279.82,\n",
      "              'temp_max': 279.82,\n",
      "              'temp_min': 279.82},\n",
      "   'name': 'Izhevsk',\n",
      "   'rain': {'3h': 0.312},\n",
      "   'sys': {  'country': 'RU',\n",
      "             'id': 2003018,\n",
      "             'message': 0.0069,\n",
      "             'sunrise': 1571627492,\n",
      "             'sunset': 1571663513,\n",
      "             'type': 3},\n",
      "   'timezone': 14400,\n",
      "   'weather': [  {  'description': 'light rain',\n",
      "                    'icon': '10d',\n",
      "                    'id': 500,\n",
      "                    'main': 'Rain'}],\n",
      "   'wind': {'deg': 210, 'gust': 2.24, 'speed': 0.45}}\n"
     ]
    }
   ],
   "source": [
    "main_link_github = 'https://api.github.com'\n",
    "usr = '/users/StanislavZabudkin/repos'\n",
    "req1 = requests.get(f'{main_link_github}{usr}')\n",
    "if req1.ok:\n",
    "    data1 = json.loads(req.text)\n",
    "    p.pprint(data1)\n",
    "    with open('Response.json','wb') as file:\n",
    "        file.write(req.content)\n",
    "#print(req1.text)"
   ]
  },
  {
   "cell_type": "code",
   "execution_count": null,
   "metadata": {},
   "outputs": [],
   "source": []
  }
 ],
 "metadata": {
  "kernelspec": {
   "display_name": "Python 3",
   "language": "python",
   "name": "python3"
  },
  "language_info": {
   "codemirror_mode": {
    "name": "ipython",
    "version": 3
   },
   "file_extension": ".py",
   "mimetype": "text/x-python",
   "name": "python",
   "nbconvert_exporter": "python",
   "pygments_lexer": "ipython3",
   "version": "3.7.3"
  }
 },
 "nbformat": 4,
 "nbformat_minor": 2
}
